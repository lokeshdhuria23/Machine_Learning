{
 "cells": [
  {
   "cell_type": "code",
   "execution_count": null,
   "id": "0215a93f-1bae-426c-ba57-fcfc525c10d3",
   "metadata": {},
   "outputs": [],
   "source": []
  }
 ],
 "metadata": {
  "kernelspec": {
   "display_name": "",
   "name": ""
  },
  "language_info": {
   "name": ""
  }
 },
 "nbformat": 4,
 "nbformat_minor": 5
}
